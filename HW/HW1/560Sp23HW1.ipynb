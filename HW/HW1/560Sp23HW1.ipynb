{
  "nbformat": 4,
  "nbformat_minor": 0,
  "metadata": {
    "colab": {
      "provenance": [],
      "authorship_tag": "ABX9TyOoqAQaO1t5eNLNmgf66R+3",
      "include_colab_link": true
    },
    "kernelspec": {
      "name": "python3",
      "display_name": "Python 3"
    },
    "language_info": {
      "name": "python"
    }
  },
  "cells": [
    {
      "cell_type": "markdown",
      "metadata": {
        "id": "view-in-github",
        "colab_type": "text"
      },
      "source": [
        "<a href=\"https://colab.research.google.com/github/yexf308/AppliedStochasticProcess/blob/main/HW/HW1/560Sp23HW1.ipynb\" target=\"_parent\"><img src=\"https://colab.research.google.com/assets/colab-badge.svg\" alt=\"Open In Colab\"/></a>"
      ]
    },
    {
      "cell_type": "code",
      "execution_count": null,
      "metadata": {
        "id": "Hyvc5temjx_X",
        "colab": {
          "base_uri": "https://localhost:8080/"
        },
        "outputId": "654966a7-5e0f-4778-f471-eb7baacf0b78"
      },
      "outputs": [
        {
          "output_type": "stream",
          "name": "stdout",
          "text": [
            "Populating the interactive namespace from numpy and matplotlib\n"
          ]
        },
        {
          "output_type": "stream",
          "name": "stderr",
          "text": [
            "/usr/local/lib/python3.8/dist-packages/IPython/core/magics/pylab.py:159: UserWarning: pylab import has clobbered these variables: ['linalg']\n",
            "`%matplotlib` prevents importing * from pylab and numpy\n",
            "  warn(\"pylab import has clobbered these variables: %s\"  % clobbered +\n"
          ]
        }
      ],
      "source": [
        "%pylab inline \n",
        "import pandas as pd\n",
        "from scipy import linalg\n",
        "from itertools import combinations\n",
        "import scipy\n",
        "import scipy.io as io\n",
        "import random\n",
        "\n"
      ]
    },
    {
      "cell_type": "markdown",
      "source": [
        "$\\def\\m#1{\\mathbf{#1}}$\n",
        "$\\def\\mm#1{\\boldsymbol{#1}}$\n",
        "$\\def\\mb#1{\\mathbb{#1}}$\n",
        "$\\def\\c#1{\\mathcal{#1}}$\n",
        "$\\def\\mr#1{\\mathrm{#1}}$\n",
        "$\\newenvironment{rmat}{\\left[\\begin{array}{rrrrrrrrrrrrr}}{\\end{array}\\right]}$\n",
        "$\\newcommand\\brm{\\begin{rmat}}$\n",
        "$\\newcommand\\erm{\\end{rmat}}$\n",
        "$\\newenvironment{cmat}{\\left[\\begin{array}{ccccccccc}}{\\end{array}\\right]}$\n",
        "$\\newcommand\\bcm{\\begin{cmat}}$\n",
        "$\\newcommand\\ecm{\\end{cmat}}$\n",
        "\n",
        "# Homework 1\n",
        "## Homework guideline\n",
        "- The deadline is Feb 10th 10:30am. Submission after the deadline will not be graded. \n",
        "\n",
        "- Submit your work(your reasoning and your code) as a SINGLE .ipynb document. Please rename the document as _HW1_YOURNAME.ipynb_ (for example, _HW1_FELIX.ipynb_). You are responsible for checking that you have correctly submitted the correct document. If your code cannot run, you may receive NO point. \n",
        "\n",
        "- Please justify all short answers with a brief explanation. If you use latex command in the markdown, **2 points** bonus will be awarded.   \n",
        "\n",
        "- You only use the Python packages included in the following cell. You are not allowed to use other advanced package or modules unless you are permitted to. \n",
        "\n",
        "- In your final submission include the plots produced by the unedited code as presented below, as well as any additional plots produced after editing the code during the course of a problem. You may find it necessary to copy/paste relevant code into additional cells to accomplish this.\n",
        "\n",
        "- Feel free to use the lecture notes and other resources. But you\n",
        "must understand, write, and hand in your own answers. In addition, you must write and submit\n",
        "your own code in the programming part of the assignment (we may run your code).\n",
        "If you copy someone else homework solution, both of you may receive ZERO point. \n",
        "\n",
        "\n",
        "- Colab is preferred. However, if you use Anaconda, please download the data file locally and save it to the same folder as this homework file. "
      ],
      "metadata": {
        "id": "9AmXQxgysfoV"
      }
    },
    {
      "cell_type": "markdown",
      "source": [
        "# Q1: Unfair coin (20pt)\n",
        "\n",
        "You are given 1000 coins. Among them, 1 coin has heads on both sides. The other 999\n",
        "coins are fair coins. You randomly choose a coin and toss it 10 times. Each time, the\n",
        "coin turns up heads. \n",
        "\n",
        "---\n",
        "\n",
        "\n",
        "## Q1.1: Theory (10pt)\n",
        "What is the probability that the coin you choose is the unfair one? "
      ],
      "metadata": {
        "id": "vCmTFZe3jy8R"
      }
    },
    {
      "cell_type": "markdown",
      "source": [
        "# Your Solution:"
      ],
      "metadata": {
        "id": "6iob4PVkkDXA"
      }
    },
    {
      "cell_type": "markdown",
      "source": [
        "\n",
        "\n",
        "---\n",
        "\n",
        "## Q1.2: Design (10pt)\n",
        "Design a Monte Carlo Simulation using numpy and scipy to verify your solution. "
      ],
      "metadata": {
        "id": "_Jv1zlMXDrpC"
      }
    },
    {
      "cell_type": "code",
      "source": [
        "# your code starts here"
      ],
      "metadata": {
        "id": "k8k57LP1EGH1"
      },
      "execution_count": null,
      "outputs": []
    },
    {
      "cell_type": "markdown",
      "source": [
        "\n",
        "\n",
        "\n",
        "---\n",
        "\n",
        "\n",
        "---\n",
        "\n",
        "# Q2: Dice Order (20pt)\n",
        "We throw 3 dice one by one. \n",
        "\n",
        "\n",
        "---\n",
        "\n",
        "## Q2.1: Theory (10pt)\n",
        "What is the probability that we obtain 3 points in strictly increasing order?"
      ],
      "metadata": {
        "id": "S-gc3tk_kn_S"
      }
    },
    {
      "cell_type": "markdown",
      "source": [
        "# Your Solution:"
      ],
      "metadata": {
        "id": "a3YGDCPdkxMk"
      }
    },
    {
      "cell_type": "markdown",
      "source": [
        "\n",
        "\n",
        "---\n",
        "## Q2.2: Design (10pt)\n",
        "Design a Monte Carlo Simulation using numpy and scipy to verify your solution. \n"
      ],
      "metadata": {
        "id": "Sa2H1-uXFvtd"
      }
    },
    {
      "cell_type": "code",
      "source": [
        "# your code starts here"
      ],
      "metadata": {
        "id": "A2sDErnjGoaL"
      },
      "execution_count": null,
      "outputs": []
    },
    {
      "cell_type": "markdown",
      "source": [
        "\n",
        "\n",
        "---\n",
        "\n",
        "\n",
        "\n",
        "---\n",
        "\n",
        "\n",
        "# Q3: Gaussian Distribution (30pt)\n",
        "\n",
        "\n",
        "---\n",
        "\n",
        "## Q3.1: Moments (15pt)\n",
        "If $\\m{X}$ follows standard normal distribution ( $\\m{X} \\sim N(0, 1)$ ), what is $\\mb{E}[\\m{X}^n]$ for $n = 1, 2, 3$\n",
        "and 4?\n"
      ],
      "metadata": {
        "id": "H7hHWnRgnHhb"
      }
    },
    {
      "cell_type": "markdown",
      "source": [
        "# Your Solution:"
      ],
      "metadata": {
        "id": "lfRzsgLrnous"
      }
    },
    {
      "cell_type": "markdown",
      "source": [
        "\n",
        "\n",
        "---\n",
        "\n",
        "\n",
        "## Q3.2: Posterior of the mean of a Gaussian with known variance (15pt)\n",
        "Given i.i.d. data $D= \\{x^{(i)}\\}_{i=1}^N$, compute $p(\\mu| D, \\sigma^2)$ for the Bayesian model,\n",
        "\\begin{align}\n",
        "p(x|\\mu) = \\frac{1}{\\sqrt{2\\pi\\sigma^2}}\\exp\\left[-\\frac{(x-\\mu)^2}{2\\sigma^2}\\right]\n",
        "\\end{align}\n",
        "with the prior distribution\n",
        "\\begin{align}\n",
        "p(\\mu; \\mu_0, \\sigma_0^2)= \\frac{1}{\\sqrt{2\\pi\\sigma_0^2}}\\exp\\left[-\\frac{(\\mu-\\mu_0)^2}{2\\sigma_0^2}\\right]\n",
        "\\end{align}\n",
        "where $\\sigma^2$ is a fixed known quantity.\n",
        "\n",
        "**Hint**: You may use that\n",
        "\\begin{align}\n",
        "N(x; m_1, \\sigma_1^2) N(x; m_2, \\sigma_2^2) \\propto N(x; m_3, \\sigma_3^2) \n",
        "\\end{align}\n",
        "where $$\\sigma_3^2 =\\left(\\frac{1}{\\sigma^2_1}+\\frac{1}{\\sigma^2_2}\\right)^{-1} $$ and \n",
        "$$ m_3 = \\sigma^2_3\\left(\\frac{m_1}{\\sigma_1^2}+\\frac{m_2}{\\sigma_2^2}\\right)$$\n",
        "\n"
      ],
      "metadata": {
        "id": "cHD5bzhdd0ls"
      }
    },
    {
      "cell_type": "markdown",
      "source": [
        "# Your Solution:"
      ],
      "metadata": {
        "id": "Y3iTWT8Ihub-"
      }
    },
    {
      "cell_type": "markdown",
      "source": [
        "\n",
        "\n",
        "---\n",
        "\n",
        "\n",
        "\n",
        "---\n",
        "\n",
        "\n",
        "# Q4: Markov Chain (30pt)\n",
        "## Q4.1 (10pt)\n",
        "Let $X$ be a simple random walk (i.e., $X$ increases by one with probability $p$ and decreases by 1 with probability $q$) and $Y_n=X_{2n}$. Compute the transition matrix for $Y$."
      ],
      "metadata": {
        "id": "idKthh-iaVJ3"
      }
    },
    {
      "cell_type": "markdown",
      "source": [
        "# Your Solution:"
      ],
      "metadata": {
        "id": "_UrIlo9hBOpQ"
      }
    },
    {
      "cell_type": "markdown",
      "source": [
        "\n",
        "\n",
        "\n",
        "\n",
        "\n",
        "---\n",
        "\n",
        "\n",
        "# Q4.2: Which of the following is a Markov chain (20pt)\n",
        "\n",
        "A six-sided die is rolled repeatedly. Which of the following a Markov chain? For those\n",
        "that are, find the transition matrix. \n",
        "\n",
        "- $X_n$ is the largest number rolled up to the $n$th roll. \n",
        "\n",
        "\n",
        "- $X_n$ is the number of sixes rolled in the first $n$ rolls. \n",
        "\n",
        "- At time $n$, $X_n$ is the time since the last six\n",
        "was rolled. \n",
        "\n",
        "- At time $n$, $X_n$ is the time until the next six is rolled.\n"
      ],
      "metadata": {
        "id": "Ka4833zlAqbR"
      }
    },
    {
      "cell_type": "markdown",
      "source": [
        "# Your Solution:"
      ],
      "metadata": {
        "id": "fwTjWs_lau7U"
      }
    }
  ]
}