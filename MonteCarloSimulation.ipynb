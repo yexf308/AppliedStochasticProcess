{
  "nbformat": 4,
  "nbformat_minor": 0,
  "metadata": {
    "colab": {
      "provenance": []
    },
    "kernelspec": {
      "name": "python3",
      "display_name": "Python 3"
    },
    "language_info": {
      "name": "python"
    }
  },
  "cells": [
    {
      "cell_type": "code",
      "execution_count": 1,
      "metadata": {
        "colab": {
          "base_uri": "https://localhost:8080/"
        },
        "id": "v7L2fqnDLAP0",
        "outputId": "ef86dcbb-29d7-4a54-a5aa-2d10f11413a1"
      },
      "outputs": [
        {
          "output_type": "stream",
          "name": "stdout",
          "text": [
            "Populating the interactive namespace from numpy and matplotlib\n"
          ]
        }
      ],
      "source": [
        "%pylab inline \n",
        "import scipy\n",
        "import random\n",
        "\n"
      ]
    },
    {
      "cell_type": "markdown",
      "source": [
        "This notebook is referred from Zack Fizell's work."
      ],
      "metadata": {
        "id": "lHxUiT0ZLH7G"
      }
    },
    {
      "cell_type": "markdown",
      "source": [
        "# What is a Monte Carlo Simulation\n",
        "A Monte Carlo simulation is a type of computational algorithm that estimates the probability of occurrence of an undeterminable event due to the involvement of random variables. The algorithm relies on repeated random sampling in an attempt to determine the probability. This means simulating an event with random inputs a large number of times to obtain your estimation. You can determine other factors as well, and we will see that in the example. Monte Carlo simulations can be utilized in a broad range of fields spanning from economics, gambling, engineering, energy, and anything in-between. So, no matter what career field you are in, it’s an excellent thing to know about.\n"
      ],
      "metadata": {
        "id": "F3W2h7_2LsY8"
      }
    },
    {
      "cell_type": "markdown",
      "source": [
        "# Example: Dice Game\n",
        "The player is playing dice against the house (casino). The rule is as follows.\n",
        "\n",
        "- In order to win, the player needs to roll the same number on both dice. \n",
        "\n",
        "-  The player starts with a balance of $1,000 and bets \\$1 on every roll (meaning both dice are rolled) and decide to play at most 1,000 rolls.\n",
        "\n",
        "- If the player wins, the house will pay \\$4 to the player. \n",
        "\n",
        "\n",
        "For example, if the player wins the first roll, their balance increases by \\$4, and they end the round with a balance of \\$1,004. However, if the play losses the first roll, they end the round with a balance of \\$999.\n",
        "\n",
        "**Q: what is the expected balance after 1000 rolls?**\n",
        "Let's perform monte carlo simulation with python.\n"
      ],
      "metadata": {
        "id": "3qocEH9JL2qg"
      }
    },
    {
      "cell_type": "markdown",
      "source": [
        "## Dice Roll Function\n",
        "Next, we can define a function that will randomize an integer from 1 to 6 for both dice (simulating a roll). The function will also compare the two dice to see if they are the same. The function will return a Boolean variable, same_num, to store if the rolls are the same or not. We will use this value later to determine actions in our code."
      ],
      "metadata": {
        "id": "jJvMFhKVPGjd"
      }
    },
    {
      "cell_type": "code",
      "source": [
        "# Creating Roll Dice Function\n",
        "def roll_dice():\n",
        "    die_1 = random.randint(1, 6)\n",
        "    die_2 = random.randint(1, 6)\n",
        "\n",
        "    # Determining if the dice are the same number\n",
        "    if die_1 == die_2:\n",
        "        same_num = True\n",
        "    else:\n",
        "        same_num = False\n",
        "    return same_num\n",
        "    "
      ],
      "metadata": {
        "id": "2rxk2YjNPFnn"
      },
      "execution_count": 2,
      "outputs": []
    },
    {
      "cell_type": "markdown",
      "source": [
        "## Inputs and Tracking Variables\n",
        "Every Monte Carlo simulation will require you to know what your inputs are and what information you are looking to obtain. We already defined what our inputs are when we described the game. We said our number of rolls per game is 1,000, and the amount the player will be betting each roll is $1. In addition to our input variables, we need to define how many times we want to simulate the game. We can use the num_simulations variable as our Monte Carlo simulation count. The higher we make this number, the more accurate the predicted probability is to its true value.\n",
        "\n",
        "The number of variables we can track usually scales with the complexity of a project, so nailing down what you want information on is important. For this example, we will track the win probability (wins per game divided by the total number of rolls) and ending balance for each simulation (or game). These are initialized as lists and will be updated at the end of each game.\n",
        "\n",
        "\n",
        "## Monte Carlo Simulation\n",
        "In the code below, we have an outer for loop that iterates through our pre-defined number of simulations (10,000 simulations) and a nested while loop that runs each game (1,000 rolls). Before we start each while loop, we initialize the player’s balance as $1,000 (as a list for plotting purposes) and a count for rolls and wins.\n",
        "\n",
        "Our while loop will simulate the game for 1,000 rolls. Inside this loop, we roll the dice and use the Boolean variable returned from roll_dice() to determine the outcome. If the dice are the same number, we add 4 times the bet to the balance list and add a win to the win count. If the dice are different, we subtract the bet from the balance list. At the end of each roll, we add a count to our num_rolls list.\n",
        "\n",
        "Once the number of rolls hits 1,000, we can calculate the player’s win probability as the number of wins divided by the total number of rolls. We can also store the ending balance for the completed game in the tracking variable end_balance. Finally, we can plot the num_rolls and balance variables to add a line to the figure we defined earlier."
      ],
      "metadata": {
        "id": "QvUzlthcPUeF"
      }
    },
    {
      "cell_type": "code",
      "source": [
        "# Inputs\n",
        "num_simulations = 10000\n",
        "max_num_rolls = 5000\n",
        "bet = 1\n",
        "\n",
        "# Tracking\n",
        "#win_probability = []\n",
        "#end_balance = []\n",
        "sum_end_balance =0 \n",
        "sum_win_probability = 0\n",
        "\n",
        "# For loop to run for the number of simulations desired\n",
        "for i in range(num_simulations):\n",
        "    balance = 1000\n",
        "    num_rolls = 0\n",
        "    num_wins = 0\n",
        "    # Run until the player has rolled 1,000 times\n",
        "    while num_rolls <= max_num_rolls and balance >0 :\n",
        "        same = roll_dice()\n",
        "        # Result if the dice are the same number\n",
        "        if same:\n",
        "            balance = balance + 4 * bet\n",
        "            num_wins += 1\n",
        "        # Result if the dice are different numbers\n",
        "        else:\n",
        "            balance= balance - bet\n",
        "\n",
        "        num_rolls=num_rolls + 1 \n",
        "# Store tracking variables and add line to figure\n",
        "    #win_probability.append(num_wins/num_rolls)\n",
        "    #end_balance.append(balance)\n",
        "    sum_win_probability = sum_win_probability + num_wins/num_rolls\n",
        "    sum_end_balance = sum_end_balance + balance\n",
        "\n",
        "\n",
        "\n",
        "# Averaging win probability and end balance\n",
        "overall_win_probability = sum_win_probability / num_simulations\n",
        "overall_end_balance = sum_end_balance/ num_simulations\n",
        "#overall_win_probability = sum(win_probability)/len(win_probability)\n",
        "#overall_end_balance = sum(end_balance)/len(end_balance)\n",
        "# Displaying the averages\n",
        "print(\"Average win probability after \" + str(num_simulations) + \" runs: \" + str(overall_win_probability))\n",
        "print(\"Average ending balance after \" + str(num_simulations) + \" runs: $\" + str(overall_end_balance))    \n"
      ],
      "metadata": {
        "colab": {
          "base_uri": "https://localhost:8080/"
        },
        "id": "vFejBcO3PWoX",
        "outputId": "2d6af14d-3f5d-4aac-8705-f1ebf7d01c66"
      },
      "execution_count": 11,
      "outputs": [
        {
          "output_type": "stream",
          "name": "stdout",
          "text": [
            "Average win probability after 10000 runs: 0.1665880586933922\n",
            "Average ending balance after 10000 runs: $173.2775\n"
          ]
        }
      ]
    }
  ]
}