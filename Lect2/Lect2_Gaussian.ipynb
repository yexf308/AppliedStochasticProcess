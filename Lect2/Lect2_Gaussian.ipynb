{
  "nbformat": 4,
  "nbformat_minor": 0,
  "metadata": {
    "colab": {
      "provenance": []
    },
    "kernelspec": {
      "name": "python3",
      "display_name": "Python 3"
    },
    "language_info": {
      "name": "python"
    }
  },
  "cells": [
    {
      "cell_type": "code",
      "execution_count": 1,
      "metadata": {
        "id": "u3fajVpY-FJW"
      },
      "outputs": [],
      "source": [
        "import numpy as np\n",
        "import matplotlib.pyplot as plt\n",
        "%matplotlib inline\n"
      ]
    },
    {
      "cell_type": "code",
      "source": [
        "# define a toss a coin\n",
        "def toss_a_coin():\n",
        "    return np.random.rand()<0.5"
      ],
      "metadata": {
        "id": "3zAJLLdY-QdE"
      },
      "execution_count": 2,
      "outputs": []
    },
    {
      "cell_type": "code",
      "source": [
        "N=[10,500,1000,5000]\n",
        "plt.figure(figsize = (18,4))\n",
        "for index,num in enumerate(N):\n",
        "    p=[]\n",
        "    for _ in range(0,200):\n",
        "        c=0\n",
        "        for _ in range(0,num):\n",
        "            c+=toss_a_coin() \n",
        "        p.append(c/num)\n",
        "    plt.subplot(1,4,index+1)\n",
        "    plt.hist(p)"
      ],
      "metadata": {
        "colab": {
          "base_uri": "https://localhost:8080/",
          "height": 268
        },
        "id": "5NSrcO7u-WGA",
        "outputId": "1c1e2d35-0972-4ee9-ea8c-e9624c29593f"
      },
      "execution_count": 4,
      "outputs": [
        {
          "output_type": "display_data",
          "data": {
            "text/plain": [
              "<Figure size 1296x288 with 4 Axes>"
            ],
            "image/png": "[encoded data removed]"
          },
          "metadata": {
            "needs_background": "light"
          }
        }
      ]
    },
    {
      "cell_type": "markdown",
      "source": [
        "$m/N$ follows the Gaussian distribution and the mean is around 0.5 with smaller and smaller variance. "
      ],
      "metadata": {
        "id": "6xpO5kV5-NFO"
      }
    }
  ]
}