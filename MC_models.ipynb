{
  "nbformat": 4,
  "nbformat_minor": 0,
  "metadata": {
    "colab": {
      "provenance": [],
      "authorship_tag": "ABX9TyPf2UXvYZDOOMFlgUX4CGGo",
      "include_colab_link": true
    },
    "kernelspec": {
      "name": "python3",
      "display_name": "Python 3"
    },
    "language_info": {
      "name": "python"
    }
  },
  "cells": [
    {
      "cell_type": "markdown",
      "metadata": {
        "id": "view-in-github",
        "colab_type": "text"
      },
      "source": [
        "<a href=\"https://colab.research.google.com/github/yexf308/AppliedStochasticProcess/blob/main/MC_models.ipynb\" target=\"_parent\"><img src=\"https://colab.research.google.com/assets/colab-badge.svg\" alt=\"Open In Colab\"/></a>"
      ]
    },
    {
      "cell_type": "markdown",
      "source": [
        "# Markov Chain Implentation from Scratch"
      ],
      "metadata": {
        "id": "Xjs8njVNhN1R"
      }
    },
    {
      "cell_type": "code",
      "execution_count": 1,
      "metadata": {
        "id": "kBptsGdzI5uL"
      },
      "outputs": [],
      "source": [
        "import numpy as np\n",
        "\n",
        "## homogeneous, discrete, finite state, first order Markov chain\n",
        "## Implementation from scratch"
      ]
    },
    {
      "cell_type": "code",
      "source": [
        "class SimpleMarkovModel(object):\n",
        "    def __init__(self, status_num=None):\n",
        "        # initial probability vector\n",
        "        self.pi = np.zeros(shape=(status_num))\n",
        "        # transition probability matrix\n",
        "        self.P = np.zeros(shape=(status_num, status_num))\n",
        "\n",
        "    def fit(self, x):\n",
        "        \"\"\"\n",
        "        Based on training data, calculate initial probability vector and transition probability matrix\n",
        "        param x: x can be a single list or list of list. [s1, s2, ..., sn] or [[s11,s12,...,s1m],[s21,s22,...,s2n],...]\n",
        "        The difference is in calculating initial probability vector. In single list, we can use all states to inference the initial\n",
        "        prob vector. In list of list, we will use the initial states of sub-list to inference.\n",
        "        return:\n",
        "        \"\"\"\n",
        "        if type(x[0]) == list:\n",
        "            for clist in x:\n",
        "                self.pi[clist[0]] += 1\n",
        "                for cindex in range(0, len(clist) - 1):\n",
        "                    self.P[clist[cindex ], clist[cindex + 1]] += 1\n",
        "        else:\n",
        "            for index in range(0, len(x) - 1):\n",
        "                self.pi[x[index]] += 1\n",
        "                self.P[x[index ], x[index + 1]] += 1\n",
        "        # normalization\n",
        "        self.pi = self.pi / np.sum(self.pi)\n",
        "        self.P = self.P / np.sum(self.P, axis=1)[:, np.newaxis]  \n",
        "\n",
        "\n",
        "    def predict_log_joint_prob(self, status_list):\n",
        "        \"\"\"\n",
        "        calculate the log of the joint probability\n",
        "        param: status_list:\n",
        "        :return:\n",
        "        \"\"\"\n",
        "        log_prob = np.log(self.pi[status_list[0], 0])\n",
        "        for index in range(0, len(status_list) - 1):\n",
        "            log_prob += np.log(self.P[status_list[index], status_list[index + 1]])\n",
        "        return log_prob  \n",
        "\n",
        "\n",
        "    def predict_prob_distribution(self, time_steps=None, set_init_prob=None, set_prob_trans_matrix=None):\n",
        "        \"\"\"\n",
        "        calculate the prob distribution after time_steps.\n",
        "        Allow set_init_prob and set_prob_trans_matrix to set initial prob and prob_trans_matrix\n",
        "        :param time_steps:\n",
        "        :param set_init_prob:\n",
        "        :param set_prob_trans_matrix:\n",
        "        :return:\n",
        "        \"\"\"\n",
        "        prob = self.pi if set_init_prob is None else set_init_prob\n",
        "        trans_matrix = self.P if set_prob_trans_matrix is None else set_prob_trans_matrix\n",
        "        for _ in range(0, time_steps):\n",
        "            prob = np.matmul(prob, trans_matrix)\n",
        "        return prob  \n",
        "\n",
        "    def predict_next_step_prob_distribution(self, current_status=None):\n",
        "        \"\"\"\n",
        "        predict next step probility distribution\n",
        "        :param current_status:\n",
        "        :return:\n",
        "        \"\"\"\n",
        "        return self.P[[current_status], :]  \n",
        "\n",
        "    def predict_next_step_status(self, current_status=None):\n",
        "        \"\"\"\n",
        "        predict the most probable state in the next step\n",
        "        :param current_status:\n",
        "        :return:\n",
        "        \"\"\"\n",
        "        return np.argmax(self.predict_next_step_prob_distribution(current_status))            \n",
        "\n",
        "\n"
      ],
      "metadata": {
        "id": "f9Qa3xqhJwiZ"
      },
      "execution_count": 30,
      "outputs": []
    },
    {
      "cell_type": "code",
      "source": [
        "# weather prediction\n",
        "# 0 - sunny, 1 - cloudy, 2 - rainy\n",
        "\n",
        "train_data=[2,1,2,1,0,0,0,0,0,0,0,1,1,2,2,1,1,1,0,0,0,0,1,0,1,1,1,1,1,1]\n",
        "smm=SimpleMarkovModel(status_num=3)\n",
        "smm.fit(train_data)"
      ],
      "metadata": {
        "id": "SmaeUYjUYCAL"
      },
      "execution_count": 31,
      "outputs": []
    },
    {
      "cell_type": "code",
      "source": [
        "smm.pi"
      ],
      "metadata": {
        "colab": {
          "base_uri": "https://localhost:8080/"
        },
        "id": "Lv4t7kCzZTeT",
        "outputId": "e6403669-6f52-4d83-b9f6-b7c57f413c0c"
      },
      "execution_count": 32,
      "outputs": [
        {
          "output_type": "execute_result",
          "data": {
            "text/plain": [
              "array([0.4137931 , 0.44827586, 0.13793103])"
            ]
          },
          "metadata": {},
          "execution_count": 32
        }
      ]
    },
    {
      "cell_type": "code",
      "source": [
        "P = np.random.rand(3,3)\n",
        "b = np.array([1, 2,3])\n",
        "print(P)\n",
        "print(np.matmul(P, b))\n",
        "print(np.matmul(b, P))\n",
        "\n"
      ],
      "metadata": {
        "colab": {
          "base_uri": "https://localhost:8080/"
        },
        "id": "u74mtWqVaEwf",
        "outputId": "280e51f7-e65b-4fbd-c6f9-9c3ea84c70c0"
      },
      "execution_count": 25,
      "outputs": [
        {
          "output_type": "stream",
          "name": "stdout",
          "text": [
            "[[0.0171227  0.01821663 0.26378782]\n",
            " [0.35144182 0.02286129 0.0037491 ]\n",
            " [0.38484795 0.56941222 0.13140344]]\n",
            "[0.84491942 0.40841171 1.9178827 ]\n",
            "[1.87455019 1.77217586 0.66549634]\n"
          ]
        }
      ]
    },
    {
      "cell_type": "markdown",
      "source": [
        "Let's check the probability distribution after 3, 5, 7 ,10, 20 days."
      ],
      "metadata": {
        "id": "fHpWZ2BUfn15"
      }
    },
    {
      "cell_type": "code",
      "source": [
        "import pandas as pd\n",
        "pd.DataFrame({\"3nd day\":smm.predict_prob_distribution(3).reshape(-1).tolist(),\n",
        "              \"5th day\":smm.predict_prob_distribution(5).reshape(-1).tolist(),\n",
        "              \"7th day\":smm.predict_prob_distribution(7).reshape(-1).tolist(),\n",
        "              \"10th day\":smm.predict_prob_distribution(10).reshape(-1).tolist(),\n",
        "              \"20th day\":smm.predict_prob_distribution(20).reshape(-1).tolist()})"
      ],
      "metadata": {
        "colab": {
          "base_uri": "https://localhost:8080/",
          "height": 143
        },
        "id": "8FtfFmfdfGPG",
        "outputId": "699bf546-a971-4acf-e1f4-3af696f47128"
      },
      "execution_count": 34,
      "outputs": [
        {
          "output_type": "execute_result",
          "data": {
            "text/plain": [
              "    3nd day   5th day   7th day  10th day  20th day\n",
              "0  0.426648  0.431260  0.432870  0.433556  0.433734\n",
              "1  0.474763  0.471585  0.470475  0.470002  0.469880\n",
              "2  0.098590  0.097155  0.096654  0.096441  0.096386"
            ],
            "text/html": [
              "\n",
              "  <div id=\"df-b1d16b12-ce05-4945-9d40-7d97f5312dd1\">\n",
              "    <div class=\"colab-df-container\">\n",
              "      <div>\n",
              "<style scoped>\n",
              "    .dataframe tbody tr th:only-of-type {\n",
              "        vertical-align: middle;\n",
              "    }\n",
              "\n",
              "    .dataframe tbody tr th {\n",
              "        vertical-align: top;\n",
              "    }\n",
              "\n",
              "    .dataframe thead th {\n",
              "        text-align: right;\n",
              "    }\n",
              "</style>\n",
              "<table border=\"1\" class=\"dataframe\">\n",
              "  <thead>\n",
              "    <tr style=\"text-align: right;\">\n",
              "      <th></th>\n",
              "      <th>3nd day</th>\n",
              "      <th>5th day</th>\n",
              "      <th>7th day</th>\n",
              "      <th>10th day</th>\n",
              "      <th>20th day</th>\n",
              "    </tr>\n",
              "  </thead>\n",
              "  <tbody>\n",
              "    <tr>\n",
              "      <th>0</th>\n",
              "      <td>0.426648</td>\n",
              "      <td>0.431260</td>\n",
              "      <td>0.432870</td>\n",
              "      <td>0.433556</td>\n",
              "      <td>0.433734</td>\n",
              "    </tr>\n",
              "    <tr>\n",
              "      <th>1</th>\n",
              "      <td>0.474763</td>\n",
              "      <td>0.471585</td>\n",
              "      <td>0.470475</td>\n",
              "      <td>0.470002</td>\n",
              "      <td>0.469880</td>\n",
              "    </tr>\n",
              "    <tr>\n",
              "      <th>2</th>\n",
              "      <td>0.098590</td>\n",
              "      <td>0.097155</td>\n",
              "      <td>0.096654</td>\n",
              "      <td>0.096441</td>\n",
              "      <td>0.096386</td>\n",
              "    </tr>\n",
              "  </tbody>\n",
              "</table>\n",
              "</div>\n",
              "      <button class=\"colab-df-convert\" onclick=\"convertToInteractive('df-b1d16b12-ce05-4945-9d40-7d97f5312dd1')\"\n",
              "              title=\"Convert this dataframe to an interactive table.\"\n",
              "              style=\"display:none;\">\n",
              "        \n",
              "  <svg xmlns=\"http://www.w3.org/2000/svg\" height=\"24px\"viewBox=\"0 0 24 24\"\n",
              "       width=\"24px\">\n",
              "    <path d=\"M0 0h24v24H0V0z\" fill=\"none\"/>\n",
              "    <path d=\"M18.56 5.44l.94 2.06.94-2.06 2.06-.94-2.06-.94-.94-2.06-.94 2.06-2.06.94zm-11 1L8.5 8.5l.94-2.06 2.06-.94-2.06-.94L8.5 2.5l-.94 2.06-2.06.94zm10 10l.94 2.06.94-2.06 2.06-.94-2.06-.94-.94-2.06-.94 2.06-2.06.94z\"/><path d=\"M17.41 7.96l-1.37-1.37c-.4-.4-.92-.59-1.43-.59-.52 0-1.04.2-1.43.59L10.3 9.45l-7.72 7.72c-.78.78-.78 2.05 0 2.83L4 21.41c.39.39.9.59 1.41.59.51 0 1.02-.2 1.41-.59l7.78-7.78 2.81-2.81c.8-.78.8-2.07 0-2.86zM5.41 20L4 18.59l7.72-7.72 1.47 1.35L5.41 20z\"/>\n",
              "  </svg>\n",
              "      </button>\n",
              "      \n",
              "  <style>\n",
              "    .colab-df-container {\n",
              "      display:flex;\n",
              "      flex-wrap:wrap;\n",
              "      gap: 12px;\n",
              "    }\n",
              "\n",
              "    .colab-df-convert {\n",
              "      background-color: #E8F0FE;\n",
              "      border: none;\n",
              "      border-radius: 50%;\n",
              "      cursor: pointer;\n",
              "      display: none;\n",
              "      fill: #1967D2;\n",
              "      height: 32px;\n",
              "      padding: 0 0 0 0;\n",
              "      width: 32px;\n",
              "    }\n",
              "\n",
              "    .colab-df-convert:hover {\n",
              "      background-color: #E2EBFA;\n",
              "      box-shadow: 0px 1px 2px rgba(60, 64, 67, 0.3), 0px 1px 3px 1px rgba(60, 64, 67, 0.15);\n",
              "      fill: #174EA6;\n",
              "    }\n",
              "\n",
              "    [theme=dark] .colab-df-convert {\n",
              "      background-color: #3B4455;\n",
              "      fill: #D2E3FC;\n",
              "    }\n",
              "\n",
              "    [theme=dark] .colab-df-convert:hover {\n",
              "      background-color: #434B5C;\n",
              "      box-shadow: 0px 1px 3px 1px rgba(0, 0, 0, 0.15);\n",
              "      filter: drop-shadow(0px 1px 2px rgba(0, 0, 0, 0.3));\n",
              "      fill: #FFFFFF;\n",
              "    }\n",
              "  </style>\n",
              "\n",
              "      <script>\n",
              "        const buttonEl =\n",
              "          document.querySelector('#df-b1d16b12-ce05-4945-9d40-7d97f5312dd1 button.colab-df-convert');\n",
              "        buttonEl.style.display =\n",
              "          google.colab.kernel.accessAllowed ? 'block' : 'none';\n",
              "\n",
              "        async function convertToInteractive(key) {\n",
              "          const element = document.querySelector('#df-b1d16b12-ce05-4945-9d40-7d97f5312dd1');\n",
              "          const dataTable =\n",
              "            await google.colab.kernel.invokeFunction('convertToInteractive',\n",
              "                                                     [key], {});\n",
              "          if (!dataTable) return;\n",
              "\n",
              "          const docLinkHtml = 'Like what you see? Visit the ' +\n",
              "            '<a target=\"_blank\" href=https://colab.research.google.com/notebooks/data_table.ipynb>data table notebook</a>'\n",
              "            + ' to learn more about interactive tables.';\n",
              "          element.innerHTML = '';\n",
              "          dataTable['output_type'] = 'display_data';\n",
              "          await google.colab.output.renderOutput(dataTable, element);\n",
              "          const docLink = document.createElement('div');\n",
              "          docLink.innerHTML = docLinkHtml;\n",
              "          element.appendChild(docLink);\n",
              "        }\n",
              "      </script>\n",
              "    </div>\n",
              "  </div>\n",
              "  "
            ]
          },
          "metadata": {},
          "execution_count": 34
        }
      ]
    },
    {
      "cell_type": "markdown",
      "source": [
        "Let's try different initial conditions.\n"
      ],
      "metadata": {
        "id": "8tHiIn_HgAZP"
      }
    },
    {
      "cell_type": "code",
      "source": [
        "pd.DataFrame({\"sunny\":           smm.predict_prob_distribution(20,set_init_prob=np.asarray([1,0,0])).reshape(-1).tolist(),\n",
        "              \"cloudy\":          smm.predict_prob_distribution(20,set_init_prob=np.asarray([0,1,0])).reshape(-1).tolist(),\n",
        "              \"rainy\":           smm.predict_prob_distribution(20,set_init_prob=np.asarray([0,0,1])).reshape(-1).tolist(),\n",
        "              \"cloudy and rainy\":smm.predict_prob_distribution(20,set_init_prob=np.asarray([0,0.5,0.5])).reshape(-1).tolist(),\n",
        "              \"Any\":             smm.predict_prob_distribution(20,set_init_prob=np.asarray([0.05,0.2,0.75])).reshape(-1).tolist()})"
      ],
      "metadata": {
        "colab": {
          "base_uri": "https://localhost:8080/",
          "height": 143
        },
        "id": "ntGhCSLygHjV",
        "outputId": "d95c8afb-31fa-4d97-b9cd-206fc6ad2031"
      },
      "execution_count": 36,
      "outputs": [
        {
          "output_type": "execute_result",
          "data": {
            "text/plain": [
              "      sunny    cloudy     rainy  cloudy and rainy       Any\n",
              "0  0.433749  0.433726  0.433715           0.43372  0.433719\n",
              "1  0.469870  0.469886  0.469893           0.46989  0.469891\n",
              "2  0.096381  0.096388  0.096392           0.09639  0.096391"
            ],
            "text/html": [
              "\n",
              "  <div id=\"df-0a15cbd6-55ed-4197-87f6-05dc8e94e9b4\">\n",
              "    <div class=\"colab-df-container\">\n",
              "      <div>\n",
              "<style scoped>\n",
              "    .dataframe tbody tr th:only-of-type {\n",
              "        vertical-align: middle;\n",
              "    }\n",
              "\n",
              "    .dataframe tbody tr th {\n",
              "        vertical-align: top;\n",
              "    }\n",
              "\n",
              "    .dataframe thead th {\n",
              "        text-align: right;\n",
              "    }\n",
              "</style>\n",
              "<table border=\"1\" class=\"dataframe\">\n",
              "  <thead>\n",
              "    <tr style=\"text-align: right;\">\n",
              "      <th></th>\n",
              "      <th>sunny</th>\n",
              "      <th>cloudy</th>\n",
              "      <th>rainy</th>\n",
              "      <th>cloudy and rainy</th>\n",
              "      <th>Any</th>\n",
              "    </tr>\n",
              "  </thead>\n",
              "  <tbody>\n",
              "    <tr>\n",
              "      <th>0</th>\n",
              "      <td>0.433749</td>\n",
              "      <td>0.433726</td>\n",
              "      <td>0.433715</td>\n",
              "      <td>0.43372</td>\n",
              "      <td>0.433719</td>\n",
              "    </tr>\n",
              "    <tr>\n",
              "      <th>1</th>\n",
              "      <td>0.469870</td>\n",
              "      <td>0.469886</td>\n",
              "      <td>0.469893</td>\n",
              "      <td>0.46989</td>\n",
              "      <td>0.469891</td>\n",
              "    </tr>\n",
              "    <tr>\n",
              "      <th>2</th>\n",
              "      <td>0.096381</td>\n",
              "      <td>0.096388</td>\n",
              "      <td>0.096392</td>\n",
              "      <td>0.09639</td>\n",
              "      <td>0.096391</td>\n",
              "    </tr>\n",
              "  </tbody>\n",
              "</table>\n",
              "</div>\n",
              "      <button class=\"colab-df-convert\" onclick=\"convertToInteractive('df-0a15cbd6-55ed-4197-87f6-05dc8e94e9b4')\"\n",
              "              title=\"Convert this dataframe to an interactive table.\"\n",
              "              style=\"display:none;\">\n",
              "        \n",
              "  <svg xmlns=\"http://www.w3.org/2000/svg\" height=\"24px\"viewBox=\"0 0 24 24\"\n",
              "       width=\"24px\">\n",
              "    <path d=\"M0 0h24v24H0V0z\" fill=\"none\"/>\n",
              "    <path d=\"M18.56 5.44l.94 2.06.94-2.06 2.06-.94-2.06-.94-.94-2.06-.94 2.06-2.06.94zm-11 1L8.5 8.5l.94-2.06 2.06-.94-2.06-.94L8.5 2.5l-.94 2.06-2.06.94zm10 10l.94 2.06.94-2.06 2.06-.94-2.06-.94-.94-2.06-.94 2.06-2.06.94z\"/><path d=\"M17.41 7.96l-1.37-1.37c-.4-.4-.92-.59-1.43-.59-.52 0-1.04.2-1.43.59L10.3 9.45l-7.72 7.72c-.78.78-.78 2.05 0 2.83L4 21.41c.39.39.9.59 1.41.59.51 0 1.02-.2 1.41-.59l7.78-7.78 2.81-2.81c.8-.78.8-2.07 0-2.86zM5.41 20L4 18.59l7.72-7.72 1.47 1.35L5.41 20z\"/>\n",
              "  </svg>\n",
              "      </button>\n",
              "      \n",
              "  <style>\n",
              "    .colab-df-container {\n",
              "      display:flex;\n",
              "      flex-wrap:wrap;\n",
              "      gap: 12px;\n",
              "    }\n",
              "\n",
              "    .colab-df-convert {\n",
              "      background-color: #E8F0FE;\n",
              "      border: none;\n",
              "      border-radius: 50%;\n",
              "      cursor: pointer;\n",
              "      display: none;\n",
              "      fill: #1967D2;\n",
              "      height: 32px;\n",
              "      padding: 0 0 0 0;\n",
              "      width: 32px;\n",
              "    }\n",
              "\n",
              "    .colab-df-convert:hover {\n",
              "      background-color: #E2EBFA;\n",
              "      box-shadow: 0px 1px 2px rgba(60, 64, 67, 0.3), 0px 1px 3px 1px rgba(60, 64, 67, 0.15);\n",
              "      fill: #174EA6;\n",
              "    }\n",
              "\n",
              "    [theme=dark] .colab-df-convert {\n",
              "      background-color: #3B4455;\n",
              "      fill: #D2E3FC;\n",
              "    }\n",
              "\n",
              "    [theme=dark] .colab-df-convert:hover {\n",
              "      background-color: #434B5C;\n",
              "      box-shadow: 0px 1px 3px 1px rgba(0, 0, 0, 0.15);\n",
              "      filter: drop-shadow(0px 1px 2px rgba(0, 0, 0, 0.3));\n",
              "      fill: #FFFFFF;\n",
              "    }\n",
              "  </style>\n",
              "\n",
              "      <script>\n",
              "        const buttonEl =\n",
              "          document.querySelector('#df-0a15cbd6-55ed-4197-87f6-05dc8e94e9b4 button.colab-df-convert');\n",
              "        buttonEl.style.display =\n",
              "          google.colab.kernel.accessAllowed ? 'block' : 'none';\n",
              "\n",
              "        async function convertToInteractive(key) {\n",
              "          const element = document.querySelector('#df-0a15cbd6-55ed-4197-87f6-05dc8e94e9b4');\n",
              "          const dataTable =\n",
              "            await google.colab.kernel.invokeFunction('convertToInteractive',\n",
              "                                                     [key], {});\n",
              "          if (!dataTable) return;\n",
              "\n",
              "          const docLinkHtml = 'Like what you see? Visit the ' +\n",
              "            '<a target=\"_blank\" href=https://colab.research.google.com/notebooks/data_table.ipynb>data table notebook</a>'\n",
              "            + ' to learn more about interactive tables.';\n",
              "          element.innerHTML = '';\n",
              "          dataTable['output_type'] = 'display_data';\n",
              "          await google.colab.output.renderOutput(dataTable, element);\n",
              "          const docLink = document.createElement('div');\n",
              "          docLink.innerHTML = docLinkHtml;\n",
              "          element.appendChild(docLink);\n",
              "        }\n",
              "      </script>\n",
              "    </div>\n",
              "  </div>\n",
              "  "
            ]
          },
          "metadata": {},
          "execution_count": 36
        }
      ]
    }
  ]
}